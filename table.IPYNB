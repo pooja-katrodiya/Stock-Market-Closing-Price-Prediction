{
 "cells": [
  {
   "cell_type": "code",
   "execution_count": 54,
   "id": "ee13a568",
   "metadata": {},
   "outputs": [],
   "source": [
    "import pandas as pd\n",
    "import numpy as np\n",
    "import matplotlib.pyplot as plt\n",
    "import seaborn as sns\n",
    "from sklearn.linear_model import LinearRegression, SGDRegressor, Ridge, Lasso\n",
    "from sklearn.metrics import mean_squared_error, r2_score\n",
    "from sklearn import metrics\n",
    "from sklearn.model_selection import train_test_split"
   ]
  },
  {
   "cell_type": "code",
   "execution_count": 55,
   "id": "f4853896",
   "metadata": {},
   "outputs": [
    {
     "data": {
      "text/html": [
       "<div>\n",
       "<style scoped>\n",
       "    .dataframe tbody tr th:only-of-type {\n",
       "        vertical-align: middle;\n",
       "    }\n",
       "\n",
       "    .dataframe tbody tr th {\n",
       "        vertical-align: top;\n",
       "    }\n",
       "\n",
       "    .dataframe thead th {\n",
       "        text-align: right;\n",
       "    }\n",
       "</style>\n",
       "<table border=\"1\" class=\"dataframe\">\n",
       "  <thead>\n",
       "    <tr style=\"text-align: right;\">\n",
       "      <th></th>\n",
       "      <th>Date</th>\n",
       "      <th>Open</th>\n",
       "      <th>High</th>\n",
       "      <th>Low</th>\n",
       "      <th>Close</th>\n",
       "      <th>Volume</th>\n",
       "    </tr>\n",
       "  </thead>\n",
       "  <tbody>\n",
       "    <tr>\n",
       "      <th>0</th>\n",
       "      <td>2016-07-01</td>\n",
       "      <td>17924.24023</td>\n",
       "      <td>18002.38086</td>\n",
       "      <td>17916.91016</td>\n",
       "      <td>17949.36914</td>\n",
       "      <td>82160000</td>\n",
       "    </tr>\n",
       "    <tr>\n",
       "      <th>1</th>\n",
       "      <td>2016-06-30</td>\n",
       "      <td>17712.75977</td>\n",
       "      <td>17930.60938</td>\n",
       "      <td>17711.80078</td>\n",
       "      <td>17929.99023</td>\n",
       "      <td>133030000</td>\n",
       "    </tr>\n",
       "    <tr>\n",
       "      <th>2</th>\n",
       "      <td>2016-06-29</td>\n",
       "      <td>17456.01953</td>\n",
       "      <td>17704.50977</td>\n",
       "      <td>17456.01953</td>\n",
       "      <td>17694.67969</td>\n",
       "      <td>106380000</td>\n",
       "    </tr>\n",
       "    <tr>\n",
       "      <th>3</th>\n",
       "      <td>2016-06-28</td>\n",
       "      <td>17190.50977</td>\n",
       "      <td>17409.72070</td>\n",
       "      <td>17190.50977</td>\n",
       "      <td>17409.72070</td>\n",
       "      <td>112190000</td>\n",
       "    </tr>\n",
       "    <tr>\n",
       "      <th>4</th>\n",
       "      <td>2016-06-27</td>\n",
       "      <td>17355.21094</td>\n",
       "      <td>17355.21094</td>\n",
       "      <td>17063.08008</td>\n",
       "      <td>17140.24023</td>\n",
       "      <td>138740000</td>\n",
       "    </tr>\n",
       "    <tr>\n",
       "      <th>...</th>\n",
       "      <td>...</td>\n",
       "      <td>...</td>\n",
       "      <td>...</td>\n",
       "      <td>...</td>\n",
       "      <td>...</td>\n",
       "      <td>...</td>\n",
       "    </tr>\n",
       "    <tr>\n",
       "      <th>1984</th>\n",
       "      <td>2008-08-14</td>\n",
       "      <td>11532.07031</td>\n",
       "      <td>11718.28027</td>\n",
       "      <td>11450.88965</td>\n",
       "      <td>11615.92969</td>\n",
       "      <td>159790000</td>\n",
       "    </tr>\n",
       "    <tr>\n",
       "      <th>1985</th>\n",
       "      <td>2008-08-13</td>\n",
       "      <td>11632.80957</td>\n",
       "      <td>11633.78027</td>\n",
       "      <td>11453.33984</td>\n",
       "      <td>11532.95996</td>\n",
       "      <td>182550000</td>\n",
       "    </tr>\n",
       "    <tr>\n",
       "      <th>1986</th>\n",
       "      <td>2008-08-12</td>\n",
       "      <td>11781.70020</td>\n",
       "      <td>11782.34961</td>\n",
       "      <td>11601.51953</td>\n",
       "      <td>11642.46973</td>\n",
       "      <td>173590000</td>\n",
       "    </tr>\n",
       "    <tr>\n",
       "      <th>1987</th>\n",
       "      <td>2008-08-11</td>\n",
       "      <td>11729.66992</td>\n",
       "      <td>11867.11035</td>\n",
       "      <td>11675.53027</td>\n",
       "      <td>11782.34961</td>\n",
       "      <td>183190000</td>\n",
       "    </tr>\n",
       "    <tr>\n",
       "      <th>1988</th>\n",
       "      <td>2008-08-08</td>\n",
       "      <td>11432.08984</td>\n",
       "      <td>11759.95996</td>\n",
       "      <td>11388.04004</td>\n",
       "      <td>11734.32031</td>\n",
       "      <td>212830000</td>\n",
       "    </tr>\n",
       "  </tbody>\n",
       "</table>\n",
       "<p>1989 rows × 6 columns</p>\n",
       "</div>"
      ],
      "text/plain": [
       "            Date         Open         High          Low        Close  \\\n",
       "0     2016-07-01  17924.24023  18002.38086  17916.91016  17949.36914   \n",
       "1     2016-06-30  17712.75977  17930.60938  17711.80078  17929.99023   \n",
       "2     2016-06-29  17456.01953  17704.50977  17456.01953  17694.67969   \n",
       "3     2016-06-28  17190.50977  17409.72070  17190.50977  17409.72070   \n",
       "4     2016-06-27  17355.21094  17355.21094  17063.08008  17140.24023   \n",
       "...          ...          ...          ...          ...          ...   \n",
       "1984  2008-08-14  11532.07031  11718.28027  11450.88965  11615.92969   \n",
       "1985  2008-08-13  11632.80957  11633.78027  11453.33984  11532.95996   \n",
       "1986  2008-08-12  11781.70020  11782.34961  11601.51953  11642.46973   \n",
       "1987  2008-08-11  11729.66992  11867.11035  11675.53027  11782.34961   \n",
       "1988  2008-08-08  11432.08984  11759.95996  11388.04004  11734.32031   \n",
       "\n",
       "         Volume  \n",
       "0      82160000  \n",
       "1     133030000  \n",
       "2     106380000  \n",
       "3     112190000  \n",
       "4     138740000  \n",
       "...         ...  \n",
       "1984  159790000  \n",
       "1985  182550000  \n",
       "1986  173590000  \n",
       "1987  183190000  \n",
       "1988  212830000  \n",
       "\n",
       "[1989 rows x 6 columns]"
      ]
     },
     "execution_count": 55,
     "metadata": {},
     "output_type": "execute_result"
    }
   ],
   "source": [
    "data = pd.read_csv('upload_DJIA_table.csv')\n",
    "data"
   ]
  },
  {
   "cell_type": "code",
   "execution_count": 56,
   "id": "49e9f1f3",
   "metadata": {},
   "outputs": [
    {
     "name": "stdout",
     "output_type": "stream",
     "text": [
      "<class 'pandas.core.frame.DataFrame'>\n",
      "RangeIndex: 1989 entries, 0 to 1988\n",
      "Data columns (total 6 columns):\n",
      " #   Column  Non-Null Count  Dtype  \n",
      "---  ------  --------------  -----  \n",
      " 0   Date    1989 non-null   object \n",
      " 1   Open    1989 non-null   float64\n",
      " 2   High    1989 non-null   float64\n",
      " 3   Low     1989 non-null   float64\n",
      " 4   Close   1989 non-null   float64\n",
      " 5   Volume  1989 non-null   int64  \n",
      "dtypes: float64(4), int64(1), object(1)\n",
      "memory usage: 93.4+ KB\n"
     ]
    }
   ],
   "source": [
    "data.info()"
   ]
  },
  {
   "cell_type": "code",
   "execution_count": 57,
   "id": "988733de",
   "metadata": {},
   "outputs": [],
   "source": [
    "data.drop(['Date'], axis= 1, inplace = True)"
   ]
  },
  {
   "cell_type": "code",
   "execution_count": 58,
   "id": "ca2f2402",
   "metadata": {},
   "outputs": [
    {
     "name": "stdout",
     "output_type": "stream",
     "text": [
      "             Open         High          Low     Volume\n",
      "0     17924.24023  18002.38086  17916.91016   82160000\n",
      "1     17712.75977  17930.60938  17711.80078  133030000\n",
      "2     17456.01953  17704.50977  17456.01953  106380000\n",
      "3     17190.50977  17409.72070  17190.50977  112190000\n",
      "4     17355.21094  17355.21094  17063.08008  138740000\n",
      "...           ...          ...          ...        ...\n",
      "1984  11532.07031  11718.28027  11450.88965  159790000\n",
      "1985  11632.80957  11633.78027  11453.33984  182550000\n",
      "1986  11781.70020  11782.34961  11601.51953  173590000\n",
      "1987  11729.66992  11867.11035  11675.53027  183190000\n",
      "1988  11432.08984  11759.95996  11388.04004  212830000\n",
      "\n",
      "[1989 rows x 4 columns]\n",
      "0       17949.36914\n",
      "1       17929.99023\n",
      "2       17694.67969\n",
      "3       17409.72070\n",
      "4       17140.24023\n",
      "           ...     \n",
      "1984    11615.92969\n",
      "1985    11532.95996\n",
      "1986    11642.46973\n",
      "1987    11782.34961\n",
      "1988    11734.32031\n",
      "Name: Close, Length: 1989, dtype: float64\n"
     ]
    }
   ],
   "source": [
    "X = data.drop(['Close'], axis=1)\n",
    "y = data['Close']\n",
    "print(X)\n",
    "print(y)\n"
   ]
  },
  {
   "cell_type": "code",
   "execution_count": 67,
   "id": "04a098e5",
   "metadata": {},
   "outputs": [
    {
     "name": "stdout",
     "output_type": "stream",
     "text": [
      "              Open          High           Low     Volume\n",
      "894   13250.049810  13329.440430  13227.440430  127510000\n",
      "591   16197.700200  16276.280270  16159.809570   97640000\n",
      "180   17079.080080  17111.380860  16887.669920  120110000\n",
      "465   17111.029300  17134.599610  17090.609380   61690000\n",
      "413   17568.980470  17621.869140  17547.509770   71430000\n",
      "...            ...           ...           ...        ...\n",
      "411   17604.750000  17626.710940  17536.169920   75980000\n",
      "457   17110.390630  17111.550780  16993.289060   69030000\n",
      "1413  11010.490230  11199.690430  11010.339840  171770000\n",
      "1865   8070.319824   8162.149902   7929.259766  345520000\n",
      "741   15576.690430  15602.599610  15496.839840   99320000\n",
      "\n",
      "[1591 rows x 4 columns]\n",
      "894     13245.450200\n",
      "591     16272.650390\n",
      "180     16924.750000\n",
      "465     17122.009770\n",
      "413     17613.740230\n",
      "            ...     \n",
      "411     17612.199220\n",
      "457     17013.869140\n",
      "1413    11181.230470\n",
      "1865     7956.660156\n",
      "741     15542.240230\n",
      "Name: Close, Length: 1591, dtype: float64\n"
     ]
    }
   ],
   "source": [
    "X_train, X_test, y_train, y_test = train_test_split(X, y, test_size= 0.2)\n",
    "print(X_train)\n",
    "print(y_train)"
   ]
  },
  {
   "cell_type": "code",
   "execution_count": 68,
   "id": "a6fce204",
   "metadata": {},
   "outputs": [
    {
     "data": {
      "text/html": [
       "<div>\n",
       "<style scoped>\n",
       "    .dataframe tbody tr th:only-of-type {\n",
       "        vertical-align: middle;\n",
       "    }\n",
       "\n",
       "    .dataframe tbody tr th {\n",
       "        vertical-align: top;\n",
       "    }\n",
       "\n",
       "    .dataframe thead th {\n",
       "        text-align: right;\n",
       "    }\n",
       "</style>\n",
       "<table border=\"1\" class=\"dataframe\">\n",
       "  <thead>\n",
       "    <tr style=\"text-align: right;\">\n",
       "      <th></th>\n",
       "      <th>Open</th>\n",
       "      <th>High</th>\n",
       "      <th>Low</th>\n",
       "      <th>Volume</th>\n",
       "      <th>Close</th>\n",
       "    </tr>\n",
       "  </thead>\n",
       "  <tbody>\n",
       "    <tr>\n",
       "      <th>894</th>\n",
       "      <td>13250.049810</td>\n",
       "      <td>13329.440430</td>\n",
       "      <td>13227.440430</td>\n",
       "      <td>127510000</td>\n",
       "      <td>13245.450200</td>\n",
       "    </tr>\n",
       "    <tr>\n",
       "      <th>591</th>\n",
       "      <td>16197.700200</td>\n",
       "      <td>16276.280270</td>\n",
       "      <td>16159.809570</td>\n",
       "      <td>97640000</td>\n",
       "      <td>16272.650390</td>\n",
       "    </tr>\n",
       "    <tr>\n",
       "      <th>180</th>\n",
       "      <td>17079.080080</td>\n",
       "      <td>17111.380860</td>\n",
       "      <td>16887.669920</td>\n",
       "      <td>120110000</td>\n",
       "      <td>16924.750000</td>\n",
       "    </tr>\n",
       "    <tr>\n",
       "      <th>465</th>\n",
       "      <td>17111.029300</td>\n",
       "      <td>17134.599610</td>\n",
       "      <td>17090.609380</td>\n",
       "      <td>61690000</td>\n",
       "      <td>17122.009770</td>\n",
       "    </tr>\n",
       "    <tr>\n",
       "      <th>413</th>\n",
       "      <td>17568.980470</td>\n",
       "      <td>17621.869140</td>\n",
       "      <td>17547.509770</td>\n",
       "      <td>71430000</td>\n",
       "      <td>17613.740230</td>\n",
       "    </tr>\n",
       "    <tr>\n",
       "      <th>...</th>\n",
       "      <td>...</td>\n",
       "      <td>...</td>\n",
       "      <td>...</td>\n",
       "      <td>...</td>\n",
       "      <td>...</td>\n",
       "    </tr>\n",
       "    <tr>\n",
       "      <th>411</th>\n",
       "      <td>17604.750000</td>\n",
       "      <td>17626.710940</td>\n",
       "      <td>17536.169920</td>\n",
       "      <td>75980000</td>\n",
       "      <td>17612.199220</td>\n",
       "    </tr>\n",
       "    <tr>\n",
       "      <th>457</th>\n",
       "      <td>17110.390630</td>\n",
       "      <td>17111.550780</td>\n",
       "      <td>16993.289060</td>\n",
       "      <td>69030000</td>\n",
       "      <td>17013.869140</td>\n",
       "    </tr>\n",
       "    <tr>\n",
       "      <th>1413</th>\n",
       "      <td>11010.490230</td>\n",
       "      <td>11199.690430</td>\n",
       "      <td>11010.339840</td>\n",
       "      <td>171770000</td>\n",
       "      <td>11181.230470</td>\n",
       "    </tr>\n",
       "    <tr>\n",
       "      <th>1865</th>\n",
       "      <td>8070.319824</td>\n",
       "      <td>8162.149902</td>\n",
       "      <td>7929.259766</td>\n",
       "      <td>345520000</td>\n",
       "      <td>7956.660156</td>\n",
       "    </tr>\n",
       "    <tr>\n",
       "      <th>741</th>\n",
       "      <td>15576.690430</td>\n",
       "      <td>15602.599610</td>\n",
       "      <td>15496.839840</td>\n",
       "      <td>99320000</td>\n",
       "      <td>15542.240230</td>\n",
       "    </tr>\n",
       "  </tbody>\n",
       "</table>\n",
       "<p>1591 rows × 5 columns</p>\n",
       "</div>"
      ],
      "text/plain": [
       "              Open          High           Low     Volume         Close\n",
       "894   13250.049810  13329.440430  13227.440430  127510000  13245.450200\n",
       "591   16197.700200  16276.280270  16159.809570   97640000  16272.650390\n",
       "180   17079.080080  17111.380860  16887.669920  120110000  16924.750000\n",
       "465   17111.029300  17134.599610  17090.609380   61690000  17122.009770\n",
       "413   17568.980470  17621.869140  17547.509770   71430000  17613.740230\n",
       "...            ...           ...           ...        ...           ...\n",
       "411   17604.750000  17626.710940  17536.169920   75980000  17612.199220\n",
       "457   17110.390630  17111.550780  16993.289060   69030000  17013.869140\n",
       "1413  11010.490230  11199.690430  11010.339840  171770000  11181.230470\n",
       "1865   8070.319824   8162.149902   7929.259766  345520000   7956.660156\n",
       "741   15576.690430  15602.599610  15496.839840   99320000  15542.240230\n",
       "\n",
       "[1591 rows x 5 columns]"
      ]
     },
     "execution_count": 68,
     "metadata": {},
     "output_type": "execute_result"
    }
   ],
   "source": [
    "train_data= X_train.join(y_train)\n",
    "train_data"
   ]
  },
  {
   "cell_type": "code",
   "execution_count": 69,
   "id": "b9a70420",
   "metadata": {},
   "outputs": [
    {
     "name": "stdout",
     "output_type": "stream",
     "text": [
      "<class 'pandas.core.frame.DataFrame'>\n",
      "Int64Index: 1591 entries, 894 to 741\n",
      "Data columns (total 5 columns):\n",
      " #   Column  Non-Null Count  Dtype  \n",
      "---  ------  --------------  -----  \n",
      " 0   Open    1591 non-null   float64\n",
      " 1   High    1591 non-null   float64\n",
      " 2   Low     1591 non-null   float64\n",
      " 3   Volume  1591 non-null   int64  \n",
      " 4   Close   1591 non-null   float64\n",
      "dtypes: float64(4), int64(1)\n",
      "memory usage: 139.1 KB\n"
     ]
    }
   ],
   "source": [
    "train_data.info()"
   ]
  },
  {
   "cell_type": "code",
   "execution_count": 70,
   "id": "b2165863",
   "metadata": {},
   "outputs": [
    {
     "data": {
      "text/plain": [
       "<AxesSubplot:>"
      ]
     },
     "execution_count": 70,
     "metadata": {},
     "output_type": "execute_result"
    },
    {
     "data": {
      "image/png": "[encoded data removed]",
      "text/plain": [
       "<Figure size 2000x500 with 2 Axes>"
      ]
     },
     "metadata": {},
     "output_type": "display_data"
    }
   ],
   "source": [
    "plt.figure(figsize=(20,5))\n",
    "sns.heatmap(train_data.corr(), annot=True, cmap=\"cividis\")"
   ]
  },
  {
   "cell_type": "code",
   "execution_count": 71,
   "id": "46bfebe4",
   "metadata": {},
   "outputs": [
    {
     "name": "stdout",
     "output_type": "stream",
     "text": [
      "54.911374750697476\n",
      "Accuracy of this model : 0.9997113339895053\n"
     ]
    }
   ],
   "source": [
    "#-------------Linear_regression---------------- \n",
    "model = LinearRegression()\n",
    "model.fit(X_train, y_train)\n",
    "y_predict = model.predict(X_test)\n",
    "\n",
    "#rmse = (np.sqrt(mean_squared_error(Y_test, y_test_predict)))\n",
    "print(np.sqrt(mean_squared_error(y_test, y_predict)))\n",
    "r2 = r2_score(y_test, y_predict)\n",
    "print(\"Accuracy of this model :\", r2)"
   ]
  },
  {
   "cell_type": "code",
   "execution_count": 72,
   "id": "a6099b0d",
   "metadata": {},
   "outputs": [
    {
     "name": "stdout",
     "output_type": "stream",
     "text": [
      "Accuracy of this model : -5.608792889287708e+43\n"
     ]
    },
    {
     "name": "stderr",
     "output_type": "stream",
     "text": [
      "C:\\Users\\kruta\\anaconda3\\lib\\site-packages\\sklearn\\linear_model\\_stochastic_gradient.py:1503: ConvergenceWarning: Maximum number of iteration reached before convergence. Consider increasing max_iter to improve the fit.\n",
      "  warnings.warn(\n"
     ]
    }
   ],
   "source": [
    "#----------------SGD regression---------------------------------------------\n",
    "SGD_reg = SGDRegressor(max_iter=100, tol=0.001,penalty=None,alpha=0.0001,n_iter_no_change=20)\n",
    "SGD_reg.fit(X_train, y_train)\n",
    "y_predict = SGD_reg.predict(X_test)\n",
    "rmse = (np.sqrt(mean_squared_error(y_test, y_predict)))\n",
    "r2 = r2_score(y_test, y_predict)\n",
    "print(\"Accuracy of this model :\", r2)"
   ]
  },
  {
   "cell_type": "code",
   "execution_count": 73,
   "id": "9ada9373",
   "metadata": {},
   "outputs": [
    {
     "name": "stdout",
     "output_type": "stream",
     "text": [
      "Accuracy of this model : 0.9997113337837642\n"
     ]
    }
   ],
   "source": [
    "#------------------ridge--------------\n",
    "\n",
    "ridge = Ridge(alpha=10)\n",
    "ridge.fit(X_train, y_train)\n",
    "y_predict = ridge.predict(X_test)\n",
    "r2 = r2_score(y_test, y_predict)\n",
    "print(\"Accuracy of this model :\", r2)"
   ]
  },
  {
   "cell_type": "code",
   "execution_count": 74,
   "id": "eb1bfa98",
   "metadata": {},
   "outputs": [
    {
     "name": "stdout",
     "output_type": "stream",
     "text": [
      "Accuracy of this model : 0.999209299207386\n"
     ]
    },
    {
     "name": "stderr",
     "output_type": "stream",
     "text": [
      "C:\\Users\\kruta\\anaconda3\\lib\\site-packages\\sklearn\\linear_model\\_coordinate_descent.py:647: ConvergenceWarning: Objective did not converge. You might want to increase the number of iterations, check the scale of the features or consider increasing regularisation. Duality gap: 5.463e+06, tolerance: 1.549e+06\n",
      "  model = cd_fast.enet_coordinate_descent(\n"
     ]
    }
   ],
   "source": [
    "#------------------Lasso-------------\n",
    "\n",
    "lasso = Lasso(alpha=10)\n",
    "lasso.fit(X_train, y_train)\n",
    "y_predict = lasso.predict(X_test)\n",
    "r2 = r2_score(y_test, y_predict)\n",
    "print(\"Accuracy of this model :\", r2)"
   ]
  },
  {
   "cell_type": "code",
   "execution_count": null,
   "id": "769ca88a",
   "metadata": {},
   "outputs": [],
   "source": []
  },
  {
   "cell_type": "code",
   "execution_count": null,
   "id": "a75d2a9d",
   "metadata": {},
   "outputs": [],
   "source": []
  }
 ],
 "metadata": {
  "kernelspec": {
   "display_name": "Python 3 (ipykernel)",
   "language": "python",
   "name": "python3"
  },
  "language_info": {
   "codemirror_mode": {
    "name": "ipython",
    "version": 3
   },
   "file_extension": ".py",
   "mimetype": "text/x-python",
   "name": "python",
   "nbconvert_exporter": "python",
   "pygments_lexer": "ipython3",
   "version": "3.9.13"
  }
 },
 "nbformat": 4,
 "nbformat_minor": 5
}
